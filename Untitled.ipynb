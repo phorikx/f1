{
 "cells": [
  {
   "cell_type": "code",
   "execution_count": 26,
   "id": "f7978a72",
   "metadata": {},
   "outputs": [
    {
     "name": "stderr",
     "output_type": "stream",
     "text": [
      "/home/paulhorikx/code/python/f1/venv/lib/python3.10/site-packages/fastf1/core.py:1220: FutureWarning: `Session.load_laps` is deprecated and will beremoved in a future version.\n",
      "Use `Session.load` instead.\n",
      "  warnings.warn(\"`Session.load_laps` is deprecated and will be\"\n",
      "core           INFO \tLoading data for Turkish Grand Prix - Qualifying [v2.3.0]\n",
      "api            INFO \tUsing cached data for driver_info\n",
      "api            INFO \tUsing cached data for timing_data\n",
      "api            INFO \tUsing cached data for timing_app_data\n",
      "core           INFO \tProcessing timing data...\n",
      "api            INFO \tUsing cached data for session_status_data\n",
      "api            INFO \tUsing cached data for track_status_data\n",
      "/home/paulhorikx/code/python/f1/venv/lib/python3.10/site-packages/fastf1/core.py:1492: FutureWarning: iteritems is deprecated and will be removed in a future version. Use .items instead.\n",
      "  for key, value in row.iteritems():\n",
      "/home/paulhorikx/code/python/f1/venv/lib/python3.10/site-packages/fastf1/core.py:1415: FutureWarning: In a future version, object-dtype columns with all-bool values will not be included in reductions with bool_only=True. Explicitly cast to bool dtype instead.\n",
      "  df = pd.concat([df, result], sort=False)\n",
      "/home/paulhorikx/code/python/f1/venv/lib/python3.10/site-packages/fastf1/core.py:1415: FutureWarning: In a future version, object-dtype columns with all-bool values will not be included in reductions with bool_only=True. Explicitly cast to bool dtype instead.\n",
      "  df = pd.concat([df, result], sort=False)\n",
      "/home/paulhorikx/code/python/f1/venv/lib/python3.10/site-packages/fastf1/core.py:1415: FutureWarning: In a future version, object-dtype columns with all-bool values will not be included in reductions with bool_only=True. Explicitly cast to bool dtype instead.\n",
      "  df = pd.concat([df, result], sort=False)\n",
      "/home/paulhorikx/code/python/f1/venv/lib/python3.10/site-packages/fastf1/core.py:1415: FutureWarning: In a future version, object-dtype columns with all-bool values will not be included in reductions with bool_only=True. Explicitly cast to bool dtype instead.\n",
      "  df = pd.concat([df, result], sort=False)\n",
      "/home/paulhorikx/code/python/f1/venv/lib/python3.10/site-packages/fastf1/core.py:1415: FutureWarning: In a future version, object-dtype columns with all-bool values will not be included in reductions with bool_only=True. Explicitly cast to bool dtype instead.\n",
      "  df = pd.concat([df, result], sort=False)\n",
      "/home/paulhorikx/code/python/f1/venv/lib/python3.10/site-packages/fastf1/core.py:1415: FutureWarning: In a future version, object-dtype columns with all-bool values will not be included in reductions with bool_only=True. Explicitly cast to bool dtype instead.\n",
      "  df = pd.concat([df, result], sort=False)\n",
      "/home/paulhorikx/code/python/f1/venv/lib/python3.10/site-packages/fastf1/core.py:1415: FutureWarning: In a future version, object-dtype columns with all-bool values will not be included in reductions with bool_only=True. Explicitly cast to bool dtype instead.\n",
      "  df = pd.concat([df, result], sort=False)\n",
      "/home/paulhorikx/code/python/f1/venv/lib/python3.10/site-packages/fastf1/core.py:1415: FutureWarning: In a future version, object-dtype columns with all-bool values will not be included in reductions with bool_only=True. Explicitly cast to bool dtype instead.\n",
      "  df = pd.concat([df, result], sort=False)\n",
      "/home/paulhorikx/code/python/f1/venv/lib/python3.10/site-packages/fastf1/core.py:1415: FutureWarning: In a future version, object-dtype columns with all-bool values will not be included in reductions with bool_only=True. Explicitly cast to bool dtype instead.\n",
      "  df = pd.concat([df, result], sort=False)\n",
      "/home/paulhorikx/code/python/f1/venv/lib/python3.10/site-packages/fastf1/core.py:1415: FutureWarning: In a future version, object-dtype columns with all-bool values will not be included in reductions with bool_only=True. Explicitly cast to bool dtype instead.\n",
      "  df = pd.concat([df, result], sort=False)\n",
      "/home/paulhorikx/code/python/f1/venv/lib/python3.10/site-packages/fastf1/core.py:1415: FutureWarning: In a future version, object-dtype columns with all-bool values will not be included in reductions with bool_only=True. Explicitly cast to bool dtype instead.\n",
      "  df = pd.concat([df, result], sort=False)\n",
      "/home/paulhorikx/code/python/f1/venv/lib/python3.10/site-packages/fastf1/core.py:1415: FutureWarning: In a future version, object-dtype columns with all-bool values will not be included in reductions with bool_only=True. Explicitly cast to bool dtype instead.\n",
      "  df = pd.concat([df, result], sort=False)\n",
      "/home/paulhorikx/code/python/f1/venv/lib/python3.10/site-packages/fastf1/core.py:1415: FutureWarning: In a future version, object-dtype columns with all-bool values will not be included in reductions with bool_only=True. Explicitly cast to bool dtype instead.\n",
      "  df = pd.concat([df, result], sort=False)\n",
      "/home/paulhorikx/code/python/f1/venv/lib/python3.10/site-packages/fastf1/core.py:1492: FutureWarning: iteritems is deprecated and will be removed in a future version. Use .items instead.\n",
      "  for key, value in row.iteritems():\n",
      "/home/paulhorikx/code/python/f1/venv/lib/python3.10/site-packages/fastf1/core.py:1415: FutureWarning: In a future version, object-dtype columns with all-bool values will not be included in reductions with bool_only=True. Explicitly cast to bool dtype instead.\n",
      "  df = pd.concat([df, result], sort=False)\n",
      "/home/paulhorikx/code/python/f1/venv/lib/python3.10/site-packages/fastf1/core.py:1415: FutureWarning: In a future version, object-dtype columns with all-bool values will not be included in reductions with bool_only=True. Explicitly cast to bool dtype instead.\n",
      "  df = pd.concat([df, result], sort=False)\n",
      "/home/paulhorikx/code/python/f1/venv/lib/python3.10/site-packages/fastf1/core.py:1415: FutureWarning: In a future version, object-dtype columns with all-bool values will not be included in reductions with bool_only=True. Explicitly cast to bool dtype instead.\n",
      "  df = pd.concat([df, result], sort=False)\n",
      "/home/paulhorikx/code/python/f1/venv/lib/python3.10/site-packages/fastf1/core.py:1415: FutureWarning: In a future version, object-dtype columns with all-bool values will not be included in reductions with bool_only=True. Explicitly cast to bool dtype instead.\n",
      "  df = pd.concat([df, result], sort=False)\n",
      "/home/paulhorikx/code/python/f1/venv/lib/python3.10/site-packages/fastf1/core.py:1415: FutureWarning: In a future version, object-dtype columns with all-bool values will not be included in reductions with bool_only=True. Explicitly cast to bool dtype instead.\n",
      "  df = pd.concat([df, result], sort=False)\n",
      "/home/paulhorikx/code/python/f1/venv/lib/python3.10/site-packages/fastf1/core.py:1415: FutureWarning: In a future version, object-dtype columns with all-bool values will not be included in reductions with bool_only=True. Explicitly cast to bool dtype instead.\n",
      "  df = pd.concat([df, result], sort=False)\n",
      "api            INFO \tUsing cached data for car_data\n",
      "api            INFO \tUsing cached data for position_data\n",
      "api            INFO \tUsing cached data for weather_data\n",
      "api            INFO \tUsing cached data for race_control_messages\n",
      "core           INFO \tFinished loading data for 20 drivers: ['44', '77', '33', '16', '10', '14', '11', '4', '18', '22', '5', '31', '63', '47', '55', '3', '6', '99', '7', '9']\n"
     ]
    },
    {
     "data": {
      "text/plain": [
       "<function matplotlib.pyplot.show(close=None, block=None)>"
      ]
     },
     "execution_count": 26,
     "metadata": {},
     "output_type": "execute_result"
    },
    {
     "data": {
      "image/png": "[encoded data removed]",
      "text/plain": [
       "<Figure size 640x480 with 1 Axes>"
      ]
     },
     "metadata": {},
     "output_type": "display_data"
    }
   ],
   "source": [
    "import fastf1 as ff1\n",
    "import pandas as pd\n",
    "import matplotlib.pyplot as plt\n",
    "\n",
    "ff1.Cache.enable_cache('cache')\n",
    "\n",
    "quali = ff1.get_session(2021, 'Turkey', 'Q')\n",
    "laps = quali.load_laps(with_telemetry=True)\n",
    "\n",
    "drivers = laps.Driver.unique()\n",
    "laptimes = []\n",
    "\n",
    "for driver in drivers:\n",
    "    laptimes.append(laps.pick_driver(driver).pick_fastest().LapTime.total_seconds())\n",
    "\n",
    "df = pd.DataFrame({'drivers':drivers, 'laptimes': laptimes})\n",
    "\n",
    "df.plot(x='drivers', y='laptimes', kind='scatter')\n",
    "plt.show\n"
   ]
  },
  {
   "cell_type": "code",
   "execution_count": null,
   "id": "0392ca24",
   "metadata": {},
   "outputs": [],
   "source": []
  },
  {
   "cell_type": "code",
   "execution_count": 4,
   "id": "1b43a049",
   "metadata": {},
   "outputs": [
    {
     "name": "stderr",
     "output_type": "stream",
     "text": [
      "/home/paulhorikx/code/python/f1/venv/lib/python3.10/site-packages/fastf1/core.py:1220: FutureWarning: `Session.load_laps` is deprecated and will beremoved in a future version.\n",
      "Use `Session.load` instead.\n",
      "  warnings.warn(\"`Session.load_laps` is deprecated and will be\"\n",
      "core           INFO \tLoading data for Turkish Grand Prix - Qualifying [v2.3.0]\n",
      "api            INFO \tNo cached data found for driver_info. Loading data...\n",
      "api            INFO \tFetching driver list...\n",
      "api            INFO \tData has been written to cache!\n",
      "api            INFO \tNo cached data found for timing_data. Loading data...\n",
      "api            INFO \tFetching timing data...\n",
      "api            INFO \tParsing timing data...\n",
      "api            INFO \tData has been written to cache!\n",
      "api            INFO \tNo cached data found for timing_app_data. Loading data...\n",
      "api            INFO \tFetching timing app data...\n",
      "api            INFO \tData has been written to cache!\n",
      "core           INFO \tProcessing timing data...\n",
      "api            INFO \tNo cached data found for session_status_data. Loading data...\n",
      "api            INFO \tFetching session status data...\n",
      "api            INFO \tData has been written to cache!\n",
      "api            INFO \tNo cached data found for track_status_data. Loading data...\n",
      "api            INFO \tFetching track status data...\n",
      "api            INFO \tData has been written to cache!\n",
      "/home/paulhorikx/code/python/f1/venv/lib/python3.10/site-packages/fastf1/core.py:1492: FutureWarning: iteritems is deprecated and will be removed in a future version. Use .items instead.\n",
      "  for key, value in row.iteritems():\n",
      "/home/paulhorikx/code/python/f1/venv/lib/python3.10/site-packages/fastf1/core.py:1415: FutureWarning: In a future version, object-dtype columns with all-bool values will not be included in reductions with bool_only=True. Explicitly cast to bool dtype instead.\n",
      "  df = pd.concat([df, result], sort=False)\n",
      "/home/paulhorikx/code/python/f1/venv/lib/python3.10/site-packages/fastf1/core.py:1415: FutureWarning: In a future version, object-dtype columns with all-bool values will not be included in reductions with bool_only=True. Explicitly cast to bool dtype instead.\n",
      "  df = pd.concat([df, result], sort=False)\n",
      "/home/paulhorikx/code/python/f1/venv/lib/python3.10/site-packages/fastf1/core.py:1415: FutureWarning: In a future version, object-dtype columns with all-bool values will not be included in reductions with bool_only=True. Explicitly cast to bool dtype instead.\n",
      "  df = pd.concat([df, result], sort=False)\n",
      "/home/paulhorikx/code/python/f1/venv/lib/python3.10/site-packages/fastf1/core.py:1415: FutureWarning: In a future version, object-dtype columns with all-bool values will not be included in reductions with bool_only=True. Explicitly cast to bool dtype instead.\n",
      "  df = pd.concat([df, result], sort=False)\n",
      "/home/paulhorikx/code/python/f1/venv/lib/python3.10/site-packages/fastf1/core.py:1415: FutureWarning: In a future version, object-dtype columns with all-bool values will not be included in reductions with bool_only=True. Explicitly cast to bool dtype instead.\n",
      "  df = pd.concat([df, result], sort=False)\n",
      "/home/paulhorikx/code/python/f1/venv/lib/python3.10/site-packages/fastf1/core.py:1415: FutureWarning: In a future version, object-dtype columns with all-bool values will not be included in reductions with bool_only=True. Explicitly cast to bool dtype instead.\n",
      "  df = pd.concat([df, result], sort=False)\n",
      "/home/paulhorikx/code/python/f1/venv/lib/python3.10/site-packages/fastf1/core.py:1415: FutureWarning: In a future version, object-dtype columns with all-bool values will not be included in reductions with bool_only=True. Explicitly cast to bool dtype instead.\n",
      "  df = pd.concat([df, result], sort=False)\n",
      "/home/paulhorikx/code/python/f1/venv/lib/python3.10/site-packages/fastf1/core.py:1415: FutureWarning: In a future version, object-dtype columns with all-bool values will not be included in reductions with bool_only=True. Explicitly cast to bool dtype instead.\n",
      "  df = pd.concat([df, result], sort=False)\n",
      "/home/paulhorikx/code/python/f1/venv/lib/python3.10/site-packages/fastf1/core.py:1415: FutureWarning: In a future version, object-dtype columns with all-bool values will not be included in reductions with bool_only=True. Explicitly cast to bool dtype instead.\n",
      "  df = pd.concat([df, result], sort=False)\n",
      "/home/paulhorikx/code/python/f1/venv/lib/python3.10/site-packages/fastf1/core.py:1415: FutureWarning: In a future version, object-dtype columns with all-bool values will not be included in reductions with bool_only=True. Explicitly cast to bool dtype instead.\n",
      "  df = pd.concat([df, result], sort=False)\n",
      "/home/paulhorikx/code/python/f1/venv/lib/python3.10/site-packages/fastf1/core.py:1415: FutureWarning: In a future version, object-dtype columns with all-bool values will not be included in reductions with bool_only=True. Explicitly cast to bool dtype instead.\n",
      "  df = pd.concat([df, result], sort=False)\n",
      "/home/paulhorikx/code/python/f1/venv/lib/python3.10/site-packages/fastf1/core.py:1415: FutureWarning: In a future version, object-dtype columns with all-bool values will not be included in reductions with bool_only=True. Explicitly cast to bool dtype instead.\n",
      "  df = pd.concat([df, result], sort=False)\n",
      "/home/paulhorikx/code/python/f1/venv/lib/python3.10/site-packages/fastf1/core.py:1415: FutureWarning: In a future version, object-dtype columns with all-bool values will not be included in reductions with bool_only=True. Explicitly cast to bool dtype instead.\n",
      "  df = pd.concat([df, result], sort=False)\n",
      "/home/paulhorikx/code/python/f1/venv/lib/python3.10/site-packages/fastf1/core.py:1492: FutureWarning: iteritems is deprecated and will be removed in a future version. Use .items instead.\n",
      "  for key, value in row.iteritems():\n",
      "/home/paulhorikx/code/python/f1/venv/lib/python3.10/site-packages/fastf1/core.py:1415: FutureWarning: In a future version, object-dtype columns with all-bool values will not be included in reductions with bool_only=True. Explicitly cast to bool dtype instead.\n",
      "  df = pd.concat([df, result], sort=False)\n",
      "/home/paulhorikx/code/python/f1/venv/lib/python3.10/site-packages/fastf1/core.py:1415: FutureWarning: In a future version, object-dtype columns with all-bool values will not be included in reductions with bool_only=True. Explicitly cast to bool dtype instead.\n",
      "  df = pd.concat([df, result], sort=False)\n",
      "/home/paulhorikx/code/python/f1/venv/lib/python3.10/site-packages/fastf1/core.py:1415: FutureWarning: In a future version, object-dtype columns with all-bool values will not be included in reductions with bool_only=True. Explicitly cast to bool dtype instead.\n",
      "  df = pd.concat([df, result], sort=False)\n",
      "/home/paulhorikx/code/python/f1/venv/lib/python3.10/site-packages/fastf1/core.py:1415: FutureWarning: In a future version, object-dtype columns with all-bool values will not be included in reductions with bool_only=True. Explicitly cast to bool dtype instead.\n",
      "  df = pd.concat([df, result], sort=False)\n",
      "/home/paulhorikx/code/python/f1/venv/lib/python3.10/site-packages/fastf1/core.py:1415: FutureWarning: In a future version, object-dtype columns with all-bool values will not be included in reductions with bool_only=True. Explicitly cast to bool dtype instead.\n",
      "  df = pd.concat([df, result], sort=False)\n",
      "/home/paulhorikx/code/python/f1/venv/lib/python3.10/site-packages/fastf1/core.py:1415: FutureWarning: In a future version, object-dtype columns with all-bool values will not be included in reductions with bool_only=True. Explicitly cast to bool dtype instead.\n",
      "  df = pd.concat([df, result], sort=False)\n",
      "api            INFO \tNo cached data found for car_data. Loading data...\n",
      "api            INFO \tFetching car data...\n",
      "api            INFO \tParsing car data...\n",
      "api            INFO \tData has been written to cache!\n",
      "api            INFO \tNo cached data found for position_data. Loading data...\n",
      "api            INFO \tFetching position data...\n",
      "api            INFO \tParsing position data...\n",
      "api            INFO \tData has been written to cache!\n",
      "api            INFO \tNo cached data found for weather_data. Loading data...\n",
      "api            INFO \tFetching weather data...\n",
      "api            INFO \tData has been written to cache!\n",
      "api            INFO \tNo cached data found for race_control_messages. Loading data...\n"
     ]
    },
    {
     "name": "stderr",
     "output_type": "stream",
     "text": [
      "api            INFO \tFetching race control messages...\n",
      "api            INFO \tData has been written to cache!\n",
      "core           INFO \tFinished loading data for 20 drivers: ['44', '77', '33', '16', '10', '14', '11', '4', '18', '22', '5', '31', '63', '47', '55', '3', '6', '99', '7', '9']\n"
     ]
    }
   ],
   "source": []
  },
  {
   "cell_type": "code",
   "execution_count": 25,
   "id": "c5f9d86d",
   "metadata": {},
   "outputs": [
    {
     "data": {
      "text/plain": [
       "Timedelta('0 days 00:01:22.998000')"
      ]
     },
     "execution_count": 25,
     "metadata": {},
     "output_type": "execute_result"
    }
   ],
   "source": [
    "\n",
    "\n",
    "\n"
   ]
  },
  {
   "cell_type": "code",
   "execution_count": null,
   "id": "4875faae",
   "metadata": {},
   "outputs": [],
   "source": []
  }
 ],
 "metadata": {
  "kernelspec": {
   "display_name": "Python 3 (ipykernel)",
   "language": "python",
   "name": "python3"
  },
  "language_info": {
   "codemirror_mode": {
    "name": "ipython",
    "version": 3
   },
   "file_extension": ".py",
   "mimetype": "text/x-python",
   "name": "python",
   "nbconvert_exporter": "python",
   "pygments_lexer": "ipython3",
   "version": "3.10.6"
  }
 },
 "nbformat": 4,
 "nbformat_minor": 5
}
